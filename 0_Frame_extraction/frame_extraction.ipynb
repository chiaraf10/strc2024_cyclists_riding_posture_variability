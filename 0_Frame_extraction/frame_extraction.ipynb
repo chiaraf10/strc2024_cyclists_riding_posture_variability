{
 "cells": [
  {
   "cell_type": "markdown",
   "metadata": {},
   "source": [
    "# Frame extraction from Json files."
   ]
  },
  {
   "cell_type": "code",
   "execution_count": 31,
   "metadata": {},
   "outputs": [],
   "source": [
    "import json\n",
    "from tqdm import tqdm\n",
    "import pandas as pd\n",
    "import cv2\n",
    "import os\n",
    "import numpy as np "
   ]
  },
  {
   "cell_type": "markdown",
   "metadata": {},
   "source": [
    "## Specify the file name"
   ]
  },
  {
   "cell_type": "code",
   "execution_count": 52,
   "metadata": {},
   "outputs": [],
   "source": [
    "# Specify the path to the JSON file\n",
    "file_path = 'GH020531.json'\n",
    "with open(file_path, 'r') as file:\n",
    "    data = json.load(file)"
   ]
  },
  {
   "cell_type": "markdown",
   "metadata": {},
   "source": [
    "## Extract cyclist_id and frame_id from the json file\n",
    "\n",
    "- the json is divided in frame and each frame contains object ids fro the n of cyclist dectected in the frame. \n",
    "- The following lines of code go thorugh the json file and extract the cyclist_id and frame_id from the json file. So that we know cyclist with object id \"i\" appears in which frames. With the frame number we also extract the bbox dimension."
   ]
  },
  {
   "cell_type": "code",
   "execution_count": 53,
   "metadata": {},
   "outputs": [
    {
     "name": "stderr",
     "output_type": "stream",
     "text": [
      "4499it [00:00, 873053.28it/s]\n"
     ]
    }
   ],
   "source": [
    "obj_dict = {}\n",
    "for i,frame  in tqdm(enumerate(data[\"detection\"])):\n",
    "    list_of_object = data[\"detection\"][i][\"objects\"]\n",
    "\n",
    "    for j,_ in enumerate(list_of_object): \n",
    "        if list_of_object[j][\"obj_id\"] in obj_dict.keys():\n",
    "            if not [i, list_of_object[j][\"bbox\"]] in obj_dict[list_of_object[j][\"obj_id\"]]:\n",
    "                obj_dict[list_of_object[j][\"obj_id\"]].append([i, list_of_object[j][\"bbox\"]])\n",
    "        else:\n",
    "            obj_dict[list_of_object[j][\"obj_id\"]] = [[i, list_of_object[j][\"bbox\"]]]"
   ]
  },
  {
   "cell_type": "code",
   "execution_count": 54,
   "metadata": {},
   "outputs": [],
   "source": [
    "# Save the object dictionary as a JSON file\n",
    "json.dump(obj_dict, open(\"object_ids.json\", \"w\"), indent=4)"
   ]
  },
  {
   "cell_type": "markdown",
   "metadata": {},
   "source": [
    "## Frame selection\n",
    "\n",
    "here we select which frame is best for each cyclist detected. To do this we use the bbox dimension of the cyclist in the frame. We select the frame with the most centered frame box."
   ]
  },
  {
   "cell_type": "code",
   "execution_count": 55,
   "metadata": {},
   "outputs": [],
   "source": [
    "frame_to_extract = []\n",
    "for i in obj_dict.keys():\n",
    "    close_frame = float('inf')\n",
    "    previous_distance= 1920\n",
    "    for k,_ in enumerate(obj_dict[i]):\n",
    "    \n",
    "        mid_point = 0.5* ( obj_dict[i][k][1][0] + obj_dict[i][k][1][3] )\n",
    "        if abs(650 - mid_point) < previous_distance:\n",
    "            close_frame =  obj_dict[i][k][0]\n",
    "            previous_distance = abs(650 - mid_point)\n",
    "            \n",
    "    frame_to_extract.append([i ,close_frame,obj_dict[i][k][1][0] + obj_dict[i][k][1][3]  ])      "
   ]
  },
  {
   "cell_type": "code",
   "execution_count": 56,
   "metadata": {},
   "outputs": [],
   "source": [
    "frame_saved = pd.DataFrame(frame_to_extract, columns = ['object_id', 'frame_to_extract', \"bbox_left\", \"bbox_right\"])\n",
    "frame_saved.sort_values(by = 'object_id', inplace = True)\n",
    "frame_saved = frame_saved.reset_index(drop = True)\n",
    "frame_saved.to_csv(file_path.split(\".\")[0] + \"_frame_to_extract.csv\", index = False)"
   ]
  },
  {
   "cell_type": "markdown",
   "metadata": {},
   "source": [
    "Frame saved containes the object id (the ciclist) and the frame to extract.\n",
    "We then use cv2 to extract the frame and saved them inthe folder. "
   ]
  },
  {
   "cell_type": "code",
   "execution_count": 57,
   "metadata": {},
   "outputs": [
    {
     "ename": "FileExistsError",
     "evalue": "[WinError 183] Cannot create a file when that file already exists: 'GH020531'",
     "output_type": "error",
     "traceback": [
      "\u001b[1;31m---------------------------------------------------------------------------\u001b[0m",
      "\u001b[1;31mFileExistsError\u001b[0m                           Traceback (most recent call last)",
      "Cell \u001b[1;32mIn[57], line 1\u001b[0m\n\u001b[1;32m----> 1\u001b[0m \u001b[43mos\u001b[49m\u001b[38;5;241;43m.\u001b[39;49m\u001b[43mmkdir\u001b[49m\u001b[43m(\u001b[49m\u001b[43mfile_path\u001b[49m\u001b[38;5;241;43m.\u001b[39;49m\u001b[43msplit\u001b[49m\u001b[43m(\u001b[49m\u001b[38;5;124;43m\"\u001b[39;49m\u001b[38;5;124;43m.\u001b[39;49m\u001b[38;5;124;43m\"\u001b[39;49m\u001b[43m)\u001b[49m\u001b[43m[\u001b[49m\u001b[38;5;241;43m0\u001b[39;49m\u001b[43m]\u001b[49m\u001b[43m)\u001b[49m\n",
      "\u001b[1;31mFileExistsError\u001b[0m: [WinError 183] Cannot create a file when that file already exists: 'GH020531'"
     ]
    }
   ],
   "source": [
    "os.mkdir(file_path.split(\".\")[0])"
   ]
  },
  {
   "cell_type": "code",
   "execution_count": null,
   "metadata": {},
   "outputs": [],
   "source": [
    "video = cv2.VideoCapture(file_path.split(\".\")[0] + \".MP4\")\n",
    "for j in frame_saved.frame_to_extract:   \n",
    "    video.set(cv2.CAP_PROP_POS_FRAMES, j)\n",
    "    ret, frame = video.read()\n",
    "    \n",
    "    # crop the frame based on bbox_left and bbox_right in frame_saved and add black patched on the cropped region\n",
    "    #cropped_frame = frame[]\n",
    "\n",
    "    # Create a black image of the same size as the cropped image\n",
    "    #black_image = np.zeros(cropped_frame.shape, dtype=np.uint8)\n",
    "\n",
    "    # Merge the black image with the cropped image\n",
    "    #final_frame = cv2.addWeighted(cropped_frame, 0.7, black_image, 0.3, 0)\n",
    "    \n",
    "    cv2.imwrite( file_path.split(\".\")[0] + \"/\" + file_path.split(\".\")[0] + \"_object_id_\" + str(j) + \".png\", frame)"
   ]
  }
 ],
 "metadata": {
  "kernelspec": {
   "display_name": "yolo",
   "language": "python",
   "name": "python3"
  },
  "language_info": {
   "codemirror_mode": {
    "name": "ipython",
    "version": 3
   },
   "file_extension": ".py",
   "mimetype": "text/x-python",
   "name": "python",
   "nbconvert_exporter": "python",
   "pygments_lexer": "ipython3",
   "version": "3.11.5"
  }
 },
 "nbformat": 4,
 "nbformat_minor": 2
}
